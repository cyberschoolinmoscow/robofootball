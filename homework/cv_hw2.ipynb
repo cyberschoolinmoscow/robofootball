{
 "cells": [
  {
   "cell_type": "markdown",
   "id": "87e47886",
   "metadata": {},
   "source": [
    "# Домашее задание 2\n",
    "\n",
    "В домашнем задании по классическому зрению мы продолжим работать с естественными изображениями. На этот раз нас будет интересовать изображение *sahrs_on_the_field.jpg*, лежащее в репозитории рядом с ноутбуком. Задание посвящено обработке бинарной маски. Оно состоит из трех частей, начиная с совсем простого и заканчивая тем, которому наверняка нужно будет посвятить некоторое время.\n",
    "\n",
    "- Загрузите изображение и переведите его в цветовое пространство HSV\n",
    "\n",
    "- Настройте цветовой фильтр на баскетбольное кольцо так, чтобы маска была зашумлена. Пусть в ней будут отдельные белые пиксели и даже целые области, не соответствующие кольцу. Удалите этот шум с помощью морфологических операций, выводя все промежуточные этапы на экран\n",
    "\n",
    "- Удалите шум с помощью фильтрации связных компонент, пользуясь указаниями в первом ответе по ссылке https://stackoverflow.com/questions/35854197/how-to-use-opencvs-connectedcomponentswithstats-in-python\n",
    "\n",
    "После выполнения закоммитьте задание в ветку *cv_hw* в своем репозитории."
   ]
  },
  {
   "cell_type": "code",
   "execution_count": null,
   "id": "116e9d18",
   "metadata": {},
   "outputs": [],
   "source": []
  },
  {
   "cell_type": "code",
   "execution_count": null,
   "id": "2cb5ba3c",
   "metadata": {},
   "outputs": [],
   "source": []
  }
 ],
 "metadata": {
  "kernelspec": {
   "display_name": "Python 3",
   "language": "python",
   "name": "python3"
  },
  "language_info": {
   "codemirror_mode": {
    "name": "ipython",
    "version": 3
   },
   "file_extension": ".py",
   "mimetype": "text/x-python",
   "name": "python",
   "nbconvert_exporter": "python",
   "pygments_lexer": "ipython3",
   "version": "3.9.10"
  }
 },
 "nbformat": 4,
 "nbformat_minor": 5
}
